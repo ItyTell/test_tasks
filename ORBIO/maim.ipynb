{
 "cells": [
  {
   "cell_type": "code",
   "execution_count": 43,
   "metadata": {},
   "outputs": [],
   "source": [
    "import pandas as pd\n",
    "import matplotlib.pyplot as plt\n",
    "import numpy as np "
   ]
  },
  {
   "cell_type": "code",
   "execution_count": 3,
   "metadata": {},
   "outputs": [
    {
     "data": {
      "text/html": [
       "<div>\n",
       "<style scoped>\n",
       "    .dataframe tbody tr th:only-of-type {\n",
       "        vertical-align: middle;\n",
       "    }\n",
       "\n",
       "    .dataframe tbody tr th {\n",
       "        vertical-align: top;\n",
       "    }\n",
       "\n",
       "    .dataframe thead th {\n",
       "        text-align: right;\n",
       "    }\n",
       "</style>\n",
       "<table border=\"1\" class=\"dataframe\">\n",
       "  <thead>\n",
       "    <tr style=\"text-align: right;\">\n",
       "      <th></th>\n",
       "      <th>ticket_id</th>\n",
       "      <th>request_datetime</th>\n",
       "      <th>agent</th>\n",
       "      <th>agent_team</th>\n",
       "      <th>request_type</th>\n",
       "      <th>reply_time</th>\n",
       "      <th>satisfaction_score</th>\n",
       "    </tr>\n",
       "  </thead>\n",
       "  <tbody>\n",
       "    <tr>\n",
       "      <th>0</th>\n",
       "      <td>426981</td>\n",
       "      <td>2024-05-31 23:59</td>\n",
       "      <td>Jim</td>\n",
       "      <td>Team 1</td>\n",
       "      <td>Product 1</td>\n",
       "      <td>84</td>\n",
       "      <td>Unoffered</td>\n",
       "    </tr>\n",
       "    <tr>\n",
       "      <th>1</th>\n",
       "      <td>426980</td>\n",
       "      <td>2024-05-31 23:57</td>\n",
       "      <td>Trevor</td>\n",
       "      <td>Team 1</td>\n",
       "      <td>Product 1</td>\n",
       "      <td>90</td>\n",
       "      <td>Offered</td>\n",
       "    </tr>\n",
       "    <tr>\n",
       "      <th>2</th>\n",
       "      <td>426979</td>\n",
       "      <td>2024-05-31 23:56</td>\n",
       "      <td>Trevor</td>\n",
       "      <td>Team 1</td>\n",
       "      <td>Other</td>\n",
       "      <td>93</td>\n",
       "      <td>Unoffered</td>\n",
       "    </tr>\n",
       "    <tr>\n",
       "      <th>3</th>\n",
       "      <td>426978</td>\n",
       "      <td>2024-05-31 23:55</td>\n",
       "      <td>Jim</td>\n",
       "      <td>Team 1</td>\n",
       "      <td>Other</td>\n",
       "      <td>14</td>\n",
       "      <td>Unoffered</td>\n",
       "    </tr>\n",
       "    <tr>\n",
       "      <th>4</th>\n",
       "      <td>426977</td>\n",
       "      <td>2024-05-31 23:55</td>\n",
       "      <td>Fate</td>\n",
       "      <td>Team 1</td>\n",
       "      <td>Other</td>\n",
       "      <td>37</td>\n",
       "      <td>Unoffered</td>\n",
       "    </tr>\n",
       "    <tr>\n",
       "      <th>...</th>\n",
       "      <td>...</td>\n",
       "      <td>...</td>\n",
       "      <td>...</td>\n",
       "      <td>...</td>\n",
       "      <td>...</td>\n",
       "      <td>...</td>\n",
       "      <td>...</td>\n",
       "    </tr>\n",
       "    <tr>\n",
       "      <th>46866</th>\n",
       "      <td>378447</td>\n",
       "      <td>2024-05-01 0:06</td>\n",
       "      <td>Tracy</td>\n",
       "      <td>Team 3</td>\n",
       "      <td>Product 1</td>\n",
       "      <td>510</td>\n",
       "      <td>Offered</td>\n",
       "    </tr>\n",
       "    <tr>\n",
       "      <th>46867</th>\n",
       "      <td>378446</td>\n",
       "      <td>2024-05-01 0:05</td>\n",
       "      <td>Jeff</td>\n",
       "      <td>Team 3</td>\n",
       "      <td>Tech issue</td>\n",
       "      <td>380</td>\n",
       "      <td>Unoffered</td>\n",
       "    </tr>\n",
       "    <tr>\n",
       "      <th>46868</th>\n",
       "      <td>378445</td>\n",
       "      <td>2024-05-01 0:04</td>\n",
       "      <td>Dwight</td>\n",
       "      <td>Team 1</td>\n",
       "      <td>Product 1</td>\n",
       "      <td>90</td>\n",
       "      <td>Offered</td>\n",
       "    </tr>\n",
       "    <tr>\n",
       "      <th>46869</th>\n",
       "      <td>378444</td>\n",
       "      <td>2024-05-01 0:03</td>\n",
       "      <td>Charles</td>\n",
       "      <td>Team 3</td>\n",
       "      <td>Tech issue</td>\n",
       "      <td>305</td>\n",
       "      <td>Unoffered</td>\n",
       "    </tr>\n",
       "    <tr>\n",
       "      <th>46870</th>\n",
       "      <td>378443</td>\n",
       "      <td>2024-05-01 0:02</td>\n",
       "      <td>Eva</td>\n",
       "      <td>Team 3</td>\n",
       "      <td>Product 1</td>\n",
       "      <td>427</td>\n",
       "      <td>Offered</td>\n",
       "    </tr>\n",
       "  </tbody>\n",
       "</table>\n",
       "<p>46871 rows × 7 columns</p>\n",
       "</div>"
      ],
      "text/plain": [
       "       ticket_id  request_datetime    agent agent_team request_type  \\\n",
       "0         426981  2024-05-31 23:59      Jim    Team 1    Product 1    \n",
       "1         426980  2024-05-31 23:57   Trevor    Team 1    Product 1    \n",
       "2         426979  2024-05-31 23:56   Trevor    Team 1         Other   \n",
       "3         426978  2024-05-31 23:55      Jim    Team 1         Other   \n",
       "4         426977  2024-05-31 23:55     Fate    Team 1         Other   \n",
       "...          ...               ...      ...        ...          ...   \n",
       "46866     378447   2024-05-01 0:06    Tracy    Team 3    Product 1    \n",
       "46867     378446   2024-05-01 0:05     Jeff    Team 3    Tech issue   \n",
       "46868     378445   2024-05-01 0:04   Dwight    Team 1    Product 1    \n",
       "46869     378444   2024-05-01 0:03  Charles    Team 3    Tech issue   \n",
       "46870     378443   2024-05-01 0:02      Eva    Team 3    Product 1    \n",
       "\n",
       "      reply_time satisfaction_score  \n",
       "0             84          Unoffered  \n",
       "1             90            Offered  \n",
       "2             93          Unoffered  \n",
       "3             14          Unoffered  \n",
       "4             37          Unoffered  \n",
       "...          ...                ...  \n",
       "46866        510            Offered  \n",
       "46867        380          Unoffered  \n",
       "46868         90            Offered  \n",
       "46869        305          Unoffered  \n",
       "46870        427            Offered  \n",
       "\n",
       "[46871 rows x 7 columns]"
      ]
     },
     "execution_count": 3,
     "metadata": {},
     "output_type": "execute_result"
    }
   ],
   "source": [
    "df =  pd.read_csv('data\\OBRIO Test task data - tickets.csv')\n",
    "df"
   ]
  },
  {
   "cell_type": "code",
   "execution_count": 5,
   "metadata": {},
   "outputs": [
    {
     "name": "stdout",
     "output_type": "stream",
     "text": [
      "<class 'pandas.core.frame.DataFrame'>\n",
      "RangeIndex: 46871 entries, 0 to 46870\n",
      "Data columns (total 7 columns):\n",
      " #   Column              Non-Null Count  Dtype \n",
      "---  ------              --------------  ----- \n",
      " 0   ticket_id           46871 non-null  int64 \n",
      " 1   request_datetime    46871 non-null  object\n",
      " 2   agent               46030 non-null  object\n",
      " 3   agent_team          46871 non-null  object\n",
      " 4   request_type        46871 non-null  object\n",
      " 5   reply_time          46871 non-null  object\n",
      " 6   satisfaction_score  46871 non-null  object\n",
      "dtypes: int64(1), object(6)\n",
      "memory usage: 2.5+ MB\n"
     ]
    }
   ],
   "source": [
    "df.info()"
   ]
  },
  {
   "cell_type": "code",
   "execution_count": 29,
   "metadata": {},
   "outputs": [
    {
     "data": {
      "text/plain": [
       "array(['Product 1 ', 'Other', 'Tech issue', 'Product 2 ', 'Non-customer',\n",
       "       'Email Marketing', 'Customer Success', 'Personal data deletion',\n",
       "       'Empty', 'Feedback/suggestion'], dtype=object)"
      ]
     },
     "execution_count": 29,
     "metadata": {},
     "output_type": "execute_result"
    }
   ],
   "source": [
    "df[\"request_type\"].unique()"
   ]
  },
  {
   "cell_type": "code",
   "execution_count": 51,
   "metadata": {},
   "outputs": [],
   "source": [
    "sizes = np.array([df.query('request_type == \"{}\"'.format(lebel)).shape[0] for lebel in df[\"request_type\"].unique()])\n",
    "sizes = sizes / sum(sizes)\n",
    "sizes = sizes[:5]"
   ]
  },
  {
   "cell_type": "code",
   "execution_count": 56,
   "metadata": {},
   "outputs": [
    {
     "data": {
      "image/png": "[encoded data removed]",
      "text/plain": [
       "<Figure size 640x480 with 1 Axes>"
      ]
     },
     "metadata": {},
     "output_type": "display_data"
    }
   ],
   "source": [
    "fig, ax = plt.subplots()\n",
    "ax.pie(sizes, labels=df[\"request_type\"].unique()[:5], autopct='%1.1f%%')\n",
    "plt.title(\"Типи запитів до служби підтримки\")\n",
    "plt.show()"
   ]
  },
  {
   "cell_type": "code",
   "execution_count": 95,
   "metadata": {},
   "outputs": [],
   "source": [
    "time = {}\n",
    "for t in df[\"request_datetime\"]:\n",
    "    t1 = pd.to_datetime(t).day\n",
    "    time[t1] = 1 if t1 not in time else time[t1] + 1"
   ]
  },
  {
   "cell_type": "code",
   "execution_count": 98,
   "metadata": {},
   "outputs": [
    {
     "data": {
      "image/png": "[encoded data removed]",
      "text/plain": [
       "<Figure size 640x480 with 1 Axes>"
      ]
     },
     "metadata": {},
     "output_type": "display_data"
    }
   ],
   "source": [
    "fig, ax = plt.subplots()\n",
    "ax.bar(time.keys(), time.values())\n",
    "fig.legend([\"Кількість звернень\"])\n",
    "plt.title(\"Динаміка звернень до служби підтримки\")\n",
    "plt.show()"
   ]
  },
  {
   "cell_type": "code",
   "execution_count": 8,
   "metadata": {},
   "outputs": [
    {
     "data": {
      "text/html": [
       "<div>\n",
       "<style scoped>\n",
       "    .dataframe tbody tr th:only-of-type {\n",
       "        vertical-align: middle;\n",
       "    }\n",
       "\n",
       "    .dataframe tbody tr th {\n",
       "        vertical-align: top;\n",
       "    }\n",
       "\n",
       "    .dataframe thead th {\n",
       "        text-align: right;\n",
       "    }\n",
       "</style>\n",
       "<table border=\"1\" class=\"dataframe\">\n",
       "  <thead>\n",
       "    <tr style=\"text-align: right;\">\n",
       "      <th></th>\n",
       "      <th>ticket_id</th>\n",
       "      <th>request_datetime</th>\n",
       "      <th>agent</th>\n",
       "      <th>agent_team</th>\n",
       "      <th>request_type</th>\n",
       "      <th>reply_time</th>\n",
       "      <th>satisfaction_score</th>\n",
       "    </tr>\n",
       "  </thead>\n",
       "  <tbody>\n",
       "    <tr>\n",
       "      <th>0</th>\n",
       "      <td>426981</td>\n",
       "      <td>2024-05-31 23:59:00</td>\n",
       "      <td>Jim</td>\n",
       "      <td>Team 1</td>\n",
       "      <td>Product 1</td>\n",
       "      <td>84</td>\n",
       "      <td>Unoffered</td>\n",
       "    </tr>\n",
       "    <tr>\n",
       "      <th>1</th>\n",
       "      <td>426980</td>\n",
       "      <td>2024-05-31 23:57:00</td>\n",
       "      <td>Trevor</td>\n",
       "      <td>Team 1</td>\n",
       "      <td>Product 1</td>\n",
       "      <td>90</td>\n",
       "      <td>Offered</td>\n",
       "    </tr>\n",
       "    <tr>\n",
       "      <th>2</th>\n",
       "      <td>426979</td>\n",
       "      <td>2024-05-31 23:56:00</td>\n",
       "      <td>Trevor</td>\n",
       "      <td>Team 1</td>\n",
       "      <td>Other</td>\n",
       "      <td>93</td>\n",
       "      <td>Unoffered</td>\n",
       "    </tr>\n",
       "    <tr>\n",
       "      <th>3</th>\n",
       "      <td>426978</td>\n",
       "      <td>2024-05-31 23:55:00</td>\n",
       "      <td>Jim</td>\n",
       "      <td>Team 1</td>\n",
       "      <td>Other</td>\n",
       "      <td>14</td>\n",
       "      <td>Unoffered</td>\n",
       "    </tr>\n",
       "    <tr>\n",
       "      <th>4</th>\n",
       "      <td>426977</td>\n",
       "      <td>2024-05-31 23:55:00</td>\n",
       "      <td>Fate</td>\n",
       "      <td>Team 1</td>\n",
       "      <td>Other</td>\n",
       "      <td>37</td>\n",
       "      <td>Unoffered</td>\n",
       "    </tr>\n",
       "  </tbody>\n",
       "</table>\n",
       "</div>"
      ],
      "text/plain": [
       "   ticket_id    request_datetime   agent agent_team request_type reply_time  \\\n",
       "0     426981 2024-05-31 23:59:00     Jim    Team 1    Product 1          84   \n",
       "1     426980 2024-05-31 23:57:00  Trevor    Team 1    Product 1          90   \n",
       "2     426979 2024-05-31 23:56:00  Trevor    Team 1         Other         93   \n",
       "3     426978 2024-05-31 23:55:00     Jim    Team 1         Other         14   \n",
       "4     426977 2024-05-31 23:55:00    Fate    Team 1         Other         37   \n",
       "\n",
       "  satisfaction_score  \n",
       "0          Unoffered  \n",
       "1            Offered  \n",
       "2          Unoffered  \n",
       "3          Unoffered  \n",
       "4          Unoffered  "
      ]
     },
     "execution_count": 8,
     "metadata": {},
     "output_type": "execute_result"
    }
   ],
   "source": [
    "df[\"request_datetime\"] = pd.to_datetime(df[\"request_datetime\"])\n",
    "df.head()"
   ]
  },
  {
   "cell_type": "code",
   "execution_count": 10,
   "metadata": {},
   "outputs": [
    {
     "data": {
      "text/plain": [
       "array(['Team 1 ', ' ', 'Team 2 ', 'Team 3 '], dtype=object)"
      ]
     },
     "execution_count": 10,
     "metadata": {},
     "output_type": "execute_result"
    }
   ],
   "source": [
    "df[\"agent_team\"].unique()"
   ]
  },
  {
   "cell_type": "code",
   "execution_count": 12,
   "metadata": {},
   "outputs": [
    {
     "data": {
      "text/html": [
       "<div>\n",
       "<style scoped>\n",
       "    .dataframe tbody tr th:only-of-type {\n",
       "        vertical-align: middle;\n",
       "    }\n",
       "\n",
       "    .dataframe tbody tr th {\n",
       "        vertical-align: top;\n",
       "    }\n",
       "\n",
       "    .dataframe thead th {\n",
       "        text-align: right;\n",
       "    }\n",
       "</style>\n",
       "<table border=\"1\" class=\"dataframe\">\n",
       "  <thead>\n",
       "    <tr style=\"text-align: right;\">\n",
       "      <th></th>\n",
       "      <th>ticket_id</th>\n",
       "      <th>request_datetime</th>\n",
       "      <th>agent</th>\n",
       "      <th>agent_team</th>\n",
       "      <th>request_type</th>\n",
       "      <th>reply_time</th>\n",
       "      <th>satisfaction_score</th>\n",
       "    </tr>\n",
       "  </thead>\n",
       "  <tbody>\n",
       "    <tr>\n",
       "      <th>7</th>\n",
       "      <td>426974</td>\n",
       "      <td>2024-05-31 23:54:00</td>\n",
       "      <td>NaN</td>\n",
       "      <td></td>\n",
       "      <td>Empty</td>\n",
       "      <td></td>\n",
       "      <td>Unoffered</td>\n",
       "    </tr>\n",
       "    <tr>\n",
       "      <th>44</th>\n",
       "      <td>426932</td>\n",
       "      <td>2024-05-31 23:27:00</td>\n",
       "      <td>NaN</td>\n",
       "      <td></td>\n",
       "      <td>Product 1</td>\n",
       "      <td></td>\n",
       "      <td>Offered</td>\n",
       "    </tr>\n",
       "    <tr>\n",
       "      <th>70</th>\n",
       "      <td>426906</td>\n",
       "      <td>2024-05-31 23:11:00</td>\n",
       "      <td>NaN</td>\n",
       "      <td></td>\n",
       "      <td>Empty</td>\n",
       "      <td></td>\n",
       "      <td>Unoffered</td>\n",
       "    </tr>\n",
       "    <tr>\n",
       "      <th>89</th>\n",
       "      <td>426887</td>\n",
       "      <td>2024-05-31 23:00:00</td>\n",
       "      <td>NaN</td>\n",
       "      <td></td>\n",
       "      <td>Product 1</td>\n",
       "      <td></td>\n",
       "      <td>Offered</td>\n",
       "    </tr>\n",
       "    <tr>\n",
       "      <th>94</th>\n",
       "      <td>426882</td>\n",
       "      <td>2024-05-31 22:59:00</td>\n",
       "      <td>NaN</td>\n",
       "      <td></td>\n",
       "      <td>Product 1</td>\n",
       "      <td></td>\n",
       "      <td>Offered</td>\n",
       "    </tr>\n",
       "    <tr>\n",
       "      <th>...</th>\n",
       "      <td>...</td>\n",
       "      <td>...</td>\n",
       "      <td>...</td>\n",
       "      <td>...</td>\n",
       "      <td>...</td>\n",
       "      <td>...</td>\n",
       "      <td>...</td>\n",
       "    </tr>\n",
       "    <tr>\n",
       "      <th>46811</th>\n",
       "      <td>378504</td>\n",
       "      <td>2024-05-01 00:46:00</td>\n",
       "      <td>NaN</td>\n",
       "      <td></td>\n",
       "      <td>Empty</td>\n",
       "      <td></td>\n",
       "      <td>Offered</td>\n",
       "    </tr>\n",
       "    <tr>\n",
       "      <th>46815</th>\n",
       "      <td>378499</td>\n",
       "      <td>2024-05-01 00:43:00</td>\n",
       "      <td>NaN</td>\n",
       "      <td></td>\n",
       "      <td>Empty</td>\n",
       "      <td></td>\n",
       "      <td>Unoffered</td>\n",
       "    </tr>\n",
       "    <tr>\n",
       "      <th>46817</th>\n",
       "      <td>378496</td>\n",
       "      <td>2024-05-01 00:42:00</td>\n",
       "      <td>NaN</td>\n",
       "      <td></td>\n",
       "      <td>Product 1</td>\n",
       "      <td></td>\n",
       "      <td>Offered</td>\n",
       "    </tr>\n",
       "    <tr>\n",
       "      <th>46834</th>\n",
       "      <td>378479</td>\n",
       "      <td>2024-05-01 00:32:00</td>\n",
       "      <td>NaN</td>\n",
       "      <td></td>\n",
       "      <td>Product 2</td>\n",
       "      <td></td>\n",
       "      <td>Offered</td>\n",
       "    </tr>\n",
       "    <tr>\n",
       "      <th>46839</th>\n",
       "      <td>378474</td>\n",
       "      <td>2024-05-01 00:28:00</td>\n",
       "      <td>NaN</td>\n",
       "      <td></td>\n",
       "      <td>Product 1</td>\n",
       "      <td></td>\n",
       "      <td>Offered</td>\n",
       "    </tr>\n",
       "  </tbody>\n",
       "</table>\n",
       "<p>841 rows × 7 columns</p>\n",
       "</div>"
      ],
      "text/plain": [
       "       ticket_id    request_datetime agent agent_team request_type reply_time  \\\n",
       "7         426974 2024-05-31 23:54:00   NaN                   Empty              \n",
       "44        426932 2024-05-31 23:27:00   NaN              Product 1               \n",
       "70        426906 2024-05-31 23:11:00   NaN                   Empty              \n",
       "89        426887 2024-05-31 23:00:00   NaN              Product 1               \n",
       "94        426882 2024-05-31 22:59:00   NaN              Product 1               \n",
       "...          ...                 ...   ...        ...          ...        ...   \n",
       "46811     378504 2024-05-01 00:46:00   NaN                   Empty              \n",
       "46815     378499 2024-05-01 00:43:00   NaN                   Empty              \n",
       "46817     378496 2024-05-01 00:42:00   NaN              Product 1               \n",
       "46834     378479 2024-05-01 00:32:00   NaN              Product 2               \n",
       "46839     378474 2024-05-01 00:28:00   NaN              Product 1               \n",
       "\n",
       "      satisfaction_score  \n",
       "7              Unoffered  \n",
       "44               Offered  \n",
       "70             Unoffered  \n",
       "89               Offered  \n",
       "94               Offered  \n",
       "...                  ...  \n",
       "46811            Offered  \n",
       "46815          Unoffered  \n",
       "46817            Offered  \n",
       "46834            Offered  \n",
       "46839            Offered  \n",
       "\n",
       "[841 rows x 7 columns]"
      ]
     },
     "execution_count": 12,
     "metadata": {},
     "output_type": "execute_result"
    }
   ],
   "source": [
    "no_reply = df.query(\"agent_team == ' '\")\n",
    "no_reply"
   ]
  },
  {
   "cell_type": "code",
   "execution_count": 14,
   "metadata": {},
   "outputs": [
    {
     "data": {
      "text/plain": [
       "0.017942864457767063"
      ]
     },
     "execution_count": 14,
     "metadata": {},
     "output_type": "execute_result"
    }
   ],
   "source": [
    "no_reply.size / df.size"
   ]
  },
  {
   "cell_type": "code",
   "execution_count": 15,
   "metadata": {},
   "outputs": [],
   "source": [
    "df.drop(no_reply.index, inplace=True)"
   ]
  },
  {
   "cell_type": "code",
   "execution_count": 23,
   "metadata": {},
   "outputs": [
    {
     "data": {
      "text/plain": [
       "array(['Jim', 'Trevor', 'Fate', 'Dwight', 'Scott', 'Harry', 'Matheo',\n",
       "       'Leo', 'Markus', 'Holly', 'Sophia', 'Orianna', 'Vito', 'Dan',\n",
       "       'Zoe', 'Quentin', 'Irene', 'Dean', 'Max', 'Emma', 'Nathan',\n",
       "       'Oscar', 'Jeff', 'John', 'Steve', 'Lisa', 'Tracy', 'James', 'Luc',\n",
       "       'Lily', 'Eva', 'Dylan', 'Bella', 'Tina', 'Charles', 'Nicole',\n",
       "       'Jessica', 'April', 'Goldie', 'Permanently deleted user'],\n",
       "      dtype=object)"
      ]
     },
     "execution_count": 23,
     "metadata": {},
     "output_type": "execute_result"
    }
   ],
   "source": [
    "df[\"agent\"].unique()"
   ]
  },
  {
   "cell_type": "code",
   "execution_count": 24,
   "metadata": {},
   "outputs": [
    {
     "data": {
      "text/html": [
       "<div>\n",
       "<style scoped>\n",
       "    .dataframe tbody tr th:only-of-type {\n",
       "        vertical-align: middle;\n",
       "    }\n",
       "\n",
       "    .dataframe tbody tr th {\n",
       "        vertical-align: top;\n",
       "    }\n",
       "\n",
       "    .dataframe thead th {\n",
       "        text-align: right;\n",
       "    }\n",
       "</style>\n",
       "<table border=\"1\" class=\"dataframe\">\n",
       "  <thead>\n",
       "    <tr style=\"text-align: right;\">\n",
       "      <th></th>\n",
       "      <th>ticket_id</th>\n",
       "      <th>request_datetime</th>\n",
       "      <th>agent</th>\n",
       "      <th>agent_team</th>\n",
       "      <th>request_type</th>\n",
       "      <th>reply_time</th>\n",
       "      <th>satisfaction_score</th>\n",
       "    </tr>\n",
       "  </thead>\n",
       "  <tbody>\n",
       "    <tr>\n",
       "      <th>46690</th>\n",
       "      <td>378627</td>\n",
       "      <td>2024-05-01 02:22:00</td>\n",
       "      <td>Permanently deleted user</td>\n",
       "      <td>Team 3</td>\n",
       "      <td>Other</td>\n",
       "      <td>398</td>\n",
       "      <td>Unoffered</td>\n",
       "    </tr>\n",
       "  </tbody>\n",
       "</table>\n",
       "</div>"
      ],
      "text/plain": [
       "       ticket_id    request_datetime                     agent agent_team  \\\n",
       "46690     378627 2024-05-01 02:22:00  Permanently deleted user    Team 3    \n",
       "\n",
       "      request_type reply_time satisfaction_score  \n",
       "46690        Other        398          Unoffered  "
      ]
     },
     "execution_count": 24,
     "metadata": {},
     "output_type": "execute_result"
    }
   ],
   "source": [
    "df.query(\"agent == 'Permanently deleted user'\")"
   ]
  },
  {
   "cell_type": "code",
   "execution_count": 103,
   "metadata": {},
   "outputs": [
    {
     "data": {
      "text/plain": [
       "array(['Unoffered', 'Offered', 'Good with Comment', 'Bad with Comment',\n",
       "       'Good', 'Bad'], dtype=object)"
      ]
     },
     "execution_count": 103,
     "metadata": {},
     "output_type": "execute_result"
    }
   ],
   "source": [
    "df[\"satisfaction_score\"].unique()"
   ]
  },
  {
   "cell_type": "code",
   "execution_count": 123,
   "metadata": {},
   "outputs": [],
   "source": [
    "sizes = np.array([df.query('satisfaction_score== \"{}\"'.format(lebel)).shape[0] for lebel in df[\"satisfaction_score\"].unique()])\n",
    "sizes = sizes / sum(sizes)\n",
    "sizes = sizes * 100"
   ]
  },
  {
   "cell_type": "code",
   "execution_count": 128,
   "metadata": {},
   "outputs": [
    {
     "data": {
      "image/png": "[encoded data removed]",
      "text/plain": [
       "<Figure size 640x480 with 1 Axes>"
      ]
     },
     "metadata": {},
     "output_type": "display_data"
    }
   ],
   "source": [
    "fig, ax = plt.subplots()\n",
    "ax.pie(sizes, labels=df[\"satisfaction_score\"].unique())\n",
    "plt.title(\"Оцінка якості обслуговування\")\n",
    "plt.legend()\n",
    "plt.show()"
   ]
  }
 ],
 "metadata": {
  "kernelspec": {
   "display_name": "base",
   "language": "python",
   "name": "python3"
  },
  "language_info": {
   "codemirror_mode": {
    "name": "ipython",
    "version": 3
   },
   "file_extension": ".py",
   "mimetype": "text/x-python",
   "name": "python",
   "nbconvert_exporter": "python",
   "pygments_lexer": "ipython3",
   "version": "3.11.5"
  }
 },
 "nbformat": 4,
 "nbformat_minor": 2
}
