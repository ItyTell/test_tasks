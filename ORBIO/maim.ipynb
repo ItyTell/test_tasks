{
 "cells": [
  {
   "cell_type": "code",
   "execution_count": 1,
   "metadata": {},
   "outputs": [],
   "source": [
    "import pandas as pd\n",
    "import matplotlib.pyplot as plt\n",
    "import numpy as np "
   ]
  },
  {
   "cell_type": "code",
   "execution_count": 2,
   "metadata": {},
   "outputs": [
    {
     "data": {
      "text/html": [
       "<div>\n",
       "<style scoped>\n",
       "    .dataframe tbody tr th:only-of-type {\n",
       "        vertical-align: middle;\n",
       "    }\n",
       "\n",
       "    .dataframe tbody tr th {\n",
       "        vertical-align: top;\n",
       "    }\n",
       "\n",
       "    .dataframe thead th {\n",
       "        text-align: right;\n",
       "    }\n",
       "</style>\n",
       "<table border=\"1\" class=\"dataframe\">\n",
       "  <thead>\n",
       "    <tr style=\"text-align: right;\">\n",
       "      <th></th>\n",
       "      <th>ticket_id</th>\n",
       "      <th>request_datetime</th>\n",
       "      <th>agent</th>\n",
       "      <th>agent_team</th>\n",
       "      <th>request_type</th>\n",
       "      <th>reply_time</th>\n",
       "      <th>satisfaction_score</th>\n",
       "    </tr>\n",
       "  </thead>\n",
       "  <tbody>\n",
       "    <tr>\n",
       "      <th>0</th>\n",
       "      <td>426981</td>\n",
       "      <td>2024-05-31 23:59</td>\n",
       "      <td>Jim</td>\n",
       "      <td>Team 1</td>\n",
       "      <td>Product 1</td>\n",
       "      <td>84</td>\n",
       "      <td>Unoffered</td>\n",
       "    </tr>\n",
       "    <tr>\n",
       "      <th>1</th>\n",
       "      <td>426980</td>\n",
       "      <td>2024-05-31 23:57</td>\n",
       "      <td>Trevor</td>\n",
       "      <td>Team 1</td>\n",
       "      <td>Product 1</td>\n",
       "      <td>90</td>\n",
       "      <td>Offered</td>\n",
       "    </tr>\n",
       "    <tr>\n",
       "      <th>2</th>\n",
       "      <td>426979</td>\n",
       "      <td>2024-05-31 23:56</td>\n",
       "      <td>Trevor</td>\n",
       "      <td>Team 1</td>\n",
       "      <td>Other</td>\n",
       "      <td>93</td>\n",
       "      <td>Unoffered</td>\n",
       "    </tr>\n",
       "    <tr>\n",
       "      <th>3</th>\n",
       "      <td>426978</td>\n",
       "      <td>2024-05-31 23:55</td>\n",
       "      <td>Jim</td>\n",
       "      <td>Team 1</td>\n",
       "      <td>Other</td>\n",
       "      <td>14</td>\n",
       "      <td>Unoffered</td>\n",
       "    </tr>\n",
       "    <tr>\n",
       "      <th>4</th>\n",
       "      <td>426977</td>\n",
       "      <td>2024-05-31 23:55</td>\n",
       "      <td>Fate</td>\n",
       "      <td>Team 1</td>\n",
       "      <td>Other</td>\n",
       "      <td>37</td>\n",
       "      <td>Unoffered</td>\n",
       "    </tr>\n",
       "    <tr>\n",
       "      <th>...</th>\n",
       "      <td>...</td>\n",
       "      <td>...</td>\n",
       "      <td>...</td>\n",
       "      <td>...</td>\n",
       "      <td>...</td>\n",
       "      <td>...</td>\n",
       "      <td>...</td>\n",
       "    </tr>\n",
       "    <tr>\n",
       "      <th>46866</th>\n",
       "      <td>378447</td>\n",
       "      <td>2024-05-01 0:06</td>\n",
       "      <td>Tracy</td>\n",
       "      <td>Team 3</td>\n",
       "      <td>Product 1</td>\n",
       "      <td>510</td>\n",
       "      <td>Offered</td>\n",
       "    </tr>\n",
       "    <tr>\n",
       "      <th>46867</th>\n",
       "      <td>378446</td>\n",
       "      <td>2024-05-01 0:05</td>\n",
       "      <td>Jeff</td>\n",
       "      <td>Team 3</td>\n",
       "      <td>Tech issue</td>\n",
       "      <td>380</td>\n",
       "      <td>Unoffered</td>\n",
       "    </tr>\n",
       "    <tr>\n",
       "      <th>46868</th>\n",
       "      <td>378445</td>\n",
       "      <td>2024-05-01 0:04</td>\n",
       "      <td>Dwight</td>\n",
       "      <td>Team 1</td>\n",
       "      <td>Product 1</td>\n",
       "      <td>90</td>\n",
       "      <td>Offered</td>\n",
       "    </tr>\n",
       "    <tr>\n",
       "      <th>46869</th>\n",
       "      <td>378444</td>\n",
       "      <td>2024-05-01 0:03</td>\n",
       "      <td>Charles</td>\n",
       "      <td>Team 3</td>\n",
       "      <td>Tech issue</td>\n",
       "      <td>305</td>\n",
       "      <td>Unoffered</td>\n",
       "    </tr>\n",
       "    <tr>\n",
       "      <th>46870</th>\n",
       "      <td>378443</td>\n",
       "      <td>2024-05-01 0:02</td>\n",
       "      <td>Eva</td>\n",
       "      <td>Team 3</td>\n",
       "      <td>Product 1</td>\n",
       "      <td>427</td>\n",
       "      <td>Offered</td>\n",
       "    </tr>\n",
       "  </tbody>\n",
       "</table>\n",
       "<p>46871 rows × 7 columns</p>\n",
       "</div>"
      ],
      "text/plain": [
       "       ticket_id  request_datetime    agent agent_team request_type  \\\n",
       "0         426981  2024-05-31 23:59      Jim    Team 1    Product 1    \n",
       "1         426980  2024-05-31 23:57   Trevor    Team 1    Product 1    \n",
       "2         426979  2024-05-31 23:56   Trevor    Team 1         Other   \n",
       "3         426978  2024-05-31 23:55      Jim    Team 1         Other   \n",
       "4         426977  2024-05-31 23:55     Fate    Team 1         Other   \n",
       "...          ...               ...      ...        ...          ...   \n",
       "46866     378447   2024-05-01 0:06    Tracy    Team 3    Product 1    \n",
       "46867     378446   2024-05-01 0:05     Jeff    Team 3    Tech issue   \n",
       "46868     378445   2024-05-01 0:04   Dwight    Team 1    Product 1    \n",
       "46869     378444   2024-05-01 0:03  Charles    Team 3    Tech issue   \n",
       "46870     378443   2024-05-01 0:02      Eva    Team 3    Product 1    \n",
       "\n",
       "      reply_time satisfaction_score  \n",
       "0             84          Unoffered  \n",
       "1             90            Offered  \n",
       "2             93          Unoffered  \n",
       "3             14          Unoffered  \n",
       "4             37          Unoffered  \n",
       "...          ...                ...  \n",
       "46866        510            Offered  \n",
       "46867        380          Unoffered  \n",
       "46868         90            Offered  \n",
       "46869        305          Unoffered  \n",
       "46870        427            Offered  \n",
       "\n",
       "[46871 rows x 7 columns]"
      ]
     },
     "execution_count": 2,
     "metadata": {},
     "output_type": "execute_result"
    }
   ],
   "source": [
    "df =  pd.read_csv('data\\OBRIO Test task data - tickets.csv')\n",
    "df"
   ]
  },
  {
   "cell_type": "code",
   "execution_count": 3,
   "metadata": {},
   "outputs": [
    {
     "name": "stdout",
     "output_type": "stream",
     "text": [
      "<class 'pandas.core.frame.DataFrame'>\n",
      "RangeIndex: 46871 entries, 0 to 46870\n",
      "Data columns (total 7 columns):\n",
      " #   Column              Non-Null Count  Dtype \n",
      "---  ------              --------------  ----- \n",
      " 0   ticket_id           46871 non-null  int64 \n",
      " 1   request_datetime    46871 non-null  object\n",
      " 2   agent               46030 non-null  object\n",
      " 3   agent_team          46871 non-null  object\n",
      " 4   request_type        46871 non-null  object\n",
      " 5   reply_time          46871 non-null  object\n",
      " 6   satisfaction_score  46871 non-null  object\n",
      "dtypes: int64(1), object(6)\n",
      "memory usage: 2.5+ MB\n"
     ]
    }
   ],
   "source": [
    "df.info()"
   ]
  },
  {
   "cell_type": "code",
   "execution_count": 4,
   "metadata": {},
   "outputs": [
    {
     "data": {
      "text/plain": [
       "array(['Product 1 ', 'Other', 'Empty', 'Tech issue', 'Product 2 ',\n",
       "       'Non-customer', 'Email Marketing', 'Customer Success',\n",
       "       'Personal data deletion', 'Feedback/suggestion'], dtype=object)"
      ]
     },
     "execution_count": 4,
     "metadata": {},
     "output_type": "execute_result"
    }
   ],
   "source": [
    "df[\"request_type\"].unique()"
   ]
  },
  {
   "cell_type": "code",
   "execution_count": 5,
   "metadata": {},
   "outputs": [],
   "source": [
    "sizes = np.array([df.query('request_type == \"{}\"'.format(lebel)).shape[0] for lebel in df[\"request_type\"].unique()])\n",
    "sizes = sizes / sum(sizes)\n",
    "sizes = sizes[:5]"
   ]
  },
  {
   "cell_type": "code",
   "execution_count": 6,
   "metadata": {},
   "outputs": [
    {
     "data": {
      "image/png": "[encoded data removed]",
      "text/plain": [
       "<Figure size 640x480 with 1 Axes>"
      ]
     },
     "metadata": {},
     "output_type": "display_data"
    }
   ],
   "source": [
    "fig, ax = plt.subplots()\n",
    "ax.pie(sizes, labels=df[\"request_type\"].unique()[:5], autopct='%1.1f%%')\n",
    "plt.title(\"Типи запитів до служби підтримки\")\n",
    "plt.show()"
   ]
  },
  {
   "cell_type": "code",
   "execution_count": 7,
   "metadata": {},
   "outputs": [],
   "source": [
    "time = {}\n",
    "for t in df[\"request_datetime\"]:\n",
    "    t1 = pd.to_datetime(t).day\n",
    "    time[t1] = 1 if t1 not in time else time[t1] + 1"
   ]
  },
  {
   "cell_type": "code",
   "execution_count": 8,
   "metadata": {},
   "outputs": [
    {
     "data": {
      "image/png": "[encoded data removed]",
      "text/plain": [
       "<Figure size 640x480 with 1 Axes>"
      ]
     },
     "metadata": {},
     "output_type": "display_data"
    }
   ],
   "source": [
    "fig, ax = plt.subplots()\n",
    "ax.bar(time.keys(), time.values())\n",
    "fig.legend([\"Кількість звернень\"])\n",
    "plt.title(\"Динаміка звернень до служби підтримки\")\n",
    "plt.show()"
   ]
  },
  {
   "cell_type": "code",
   "execution_count": 9,
   "metadata": {},
   "outputs": [
    {
     "data": {
      "text/html": [
       "<div>\n",
       "<style scoped>\n",
       "    .dataframe tbody tr th:only-of-type {\n",
       "        vertical-align: middle;\n",
       "    }\n",
       "\n",
       "    .dataframe tbody tr th {\n",
       "        vertical-align: top;\n",
       "    }\n",
       "\n",
       "    .dataframe thead th {\n",
       "        text-align: right;\n",
       "    }\n",
       "</style>\n",
       "<table border=\"1\" class=\"dataframe\">\n",
       "  <thead>\n",
       "    <tr style=\"text-align: right;\">\n",
       "      <th></th>\n",
       "      <th>ticket_id</th>\n",
       "      <th>request_datetime</th>\n",
       "      <th>agent</th>\n",
       "      <th>agent_team</th>\n",
       "      <th>request_type</th>\n",
       "      <th>reply_time</th>\n",
       "      <th>satisfaction_score</th>\n",
       "    </tr>\n",
       "  </thead>\n",
       "  <tbody>\n",
       "    <tr>\n",
       "      <th>0</th>\n",
       "      <td>426981</td>\n",
       "      <td>2024-05-31 23:59:00</td>\n",
       "      <td>Jim</td>\n",
       "      <td>Team 1</td>\n",
       "      <td>Product 1</td>\n",
       "      <td>84</td>\n",
       "      <td>Unoffered</td>\n",
       "    </tr>\n",
       "    <tr>\n",
       "      <th>1</th>\n",
       "      <td>426980</td>\n",
       "      <td>2024-05-31 23:57:00</td>\n",
       "      <td>Trevor</td>\n",
       "      <td>Team 1</td>\n",
       "      <td>Product 1</td>\n",
       "      <td>90</td>\n",
       "      <td>Offered</td>\n",
       "    </tr>\n",
       "    <tr>\n",
       "      <th>2</th>\n",
       "      <td>426979</td>\n",
       "      <td>2024-05-31 23:56:00</td>\n",
       "      <td>Trevor</td>\n",
       "      <td>Team 1</td>\n",
       "      <td>Other</td>\n",
       "      <td>93</td>\n",
       "      <td>Unoffered</td>\n",
       "    </tr>\n",
       "    <tr>\n",
       "      <th>3</th>\n",
       "      <td>426978</td>\n",
       "      <td>2024-05-31 23:55:00</td>\n",
       "      <td>Jim</td>\n",
       "      <td>Team 1</td>\n",
       "      <td>Other</td>\n",
       "      <td>14</td>\n",
       "      <td>Unoffered</td>\n",
       "    </tr>\n",
       "    <tr>\n",
       "      <th>4</th>\n",
       "      <td>426977</td>\n",
       "      <td>2024-05-31 23:55:00</td>\n",
       "      <td>Fate</td>\n",
       "      <td>Team 1</td>\n",
       "      <td>Other</td>\n",
       "      <td>37</td>\n",
       "      <td>Unoffered</td>\n",
       "    </tr>\n",
       "  </tbody>\n",
       "</table>\n",
       "</div>"
      ],
      "text/plain": [
       "   ticket_id    request_datetime   agent agent_team request_type reply_time  \\\n",
       "0     426981 2024-05-31 23:59:00     Jim    Team 1    Product 1          84   \n",
       "1     426980 2024-05-31 23:57:00  Trevor    Team 1    Product 1          90   \n",
       "2     426979 2024-05-31 23:56:00  Trevor    Team 1         Other         93   \n",
       "3     426978 2024-05-31 23:55:00     Jim    Team 1         Other         14   \n",
       "4     426977 2024-05-31 23:55:00    Fate    Team 1         Other         37   \n",
       "\n",
       "  satisfaction_score  \n",
       "0          Unoffered  \n",
       "1            Offered  \n",
       "2          Unoffered  \n",
       "3          Unoffered  \n",
       "4          Unoffered  "
      ]
     },
     "execution_count": 9,
     "metadata": {},
     "output_type": "execute_result"
    }
   ],
   "source": [
    "df[\"request_datetime\"] = pd.to_datetime(df[\"request_datetime\"])\n",
    "df.head()"
   ]
  },
  {
   "cell_type": "code",
   "execution_count": 10,
   "metadata": {},
   "outputs": [
    {
     "data": {
      "text/plain": [
       "array(['Team 1 ', ' ', 'Team 2 ', 'Team 3 '], dtype=object)"
      ]
     },
     "execution_count": 10,
     "metadata": {},
     "output_type": "execute_result"
    }
   ],
   "source": [
    "df[\"agent_team\"].unique()"
   ]
  },
  {
   "cell_type": "code",
   "execution_count": 11,
   "metadata": {},
   "outputs": [
    {
     "data": {
      "text/html": [
       "<div>\n",
       "<style scoped>\n",
       "    .dataframe tbody tr th:only-of-type {\n",
       "        vertical-align: middle;\n",
       "    }\n",
       "\n",
       "    .dataframe tbody tr th {\n",
       "        vertical-align: top;\n",
       "    }\n",
       "\n",
       "    .dataframe thead th {\n",
       "        text-align: right;\n",
       "    }\n",
       "</style>\n",
       "<table border=\"1\" class=\"dataframe\">\n",
       "  <thead>\n",
       "    <tr style=\"text-align: right;\">\n",
       "      <th></th>\n",
       "      <th>ticket_id</th>\n",
       "      <th>request_datetime</th>\n",
       "      <th>agent</th>\n",
       "      <th>agent_team</th>\n",
       "      <th>request_type</th>\n",
       "      <th>reply_time</th>\n",
       "      <th>satisfaction_score</th>\n",
       "    </tr>\n",
       "  </thead>\n",
       "  <tbody>\n",
       "    <tr>\n",
       "      <th>7</th>\n",
       "      <td>426974</td>\n",
       "      <td>2024-05-31 23:54:00</td>\n",
       "      <td>NaN</td>\n",
       "      <td></td>\n",
       "      <td>Empty</td>\n",
       "      <td></td>\n",
       "      <td>Unoffered</td>\n",
       "    </tr>\n",
       "    <tr>\n",
       "      <th>44</th>\n",
       "      <td>426932</td>\n",
       "      <td>2024-05-31 23:27:00</td>\n",
       "      <td>NaN</td>\n",
       "      <td></td>\n",
       "      <td>Product 1</td>\n",
       "      <td></td>\n",
       "      <td>Offered</td>\n",
       "    </tr>\n",
       "    <tr>\n",
       "      <th>70</th>\n",
       "      <td>426906</td>\n",
       "      <td>2024-05-31 23:11:00</td>\n",
       "      <td>NaN</td>\n",
       "      <td></td>\n",
       "      <td>Empty</td>\n",
       "      <td></td>\n",
       "      <td>Unoffered</td>\n",
       "    </tr>\n",
       "    <tr>\n",
       "      <th>89</th>\n",
       "      <td>426887</td>\n",
       "      <td>2024-05-31 23:00:00</td>\n",
       "      <td>NaN</td>\n",
       "      <td></td>\n",
       "      <td>Product 1</td>\n",
       "      <td></td>\n",
       "      <td>Offered</td>\n",
       "    </tr>\n",
       "    <tr>\n",
       "      <th>94</th>\n",
       "      <td>426882</td>\n",
       "      <td>2024-05-31 22:59:00</td>\n",
       "      <td>NaN</td>\n",
       "      <td></td>\n",
       "      <td>Product 1</td>\n",
       "      <td></td>\n",
       "      <td>Offered</td>\n",
       "    </tr>\n",
       "    <tr>\n",
       "      <th>...</th>\n",
       "      <td>...</td>\n",
       "      <td>...</td>\n",
       "      <td>...</td>\n",
       "      <td>...</td>\n",
       "      <td>...</td>\n",
       "      <td>...</td>\n",
       "      <td>...</td>\n",
       "    </tr>\n",
       "    <tr>\n",
       "      <th>46811</th>\n",
       "      <td>378504</td>\n",
       "      <td>2024-05-01 00:46:00</td>\n",
       "      <td>NaN</td>\n",
       "      <td></td>\n",
       "      <td>Empty</td>\n",
       "      <td></td>\n",
       "      <td>Offered</td>\n",
       "    </tr>\n",
       "    <tr>\n",
       "      <th>46815</th>\n",
       "      <td>378499</td>\n",
       "      <td>2024-05-01 00:43:00</td>\n",
       "      <td>NaN</td>\n",
       "      <td></td>\n",
       "      <td>Empty</td>\n",
       "      <td></td>\n",
       "      <td>Unoffered</td>\n",
       "    </tr>\n",
       "    <tr>\n",
       "      <th>46817</th>\n",
       "      <td>378496</td>\n",
       "      <td>2024-05-01 00:42:00</td>\n",
       "      <td>NaN</td>\n",
       "      <td></td>\n",
       "      <td>Product 1</td>\n",
       "      <td></td>\n",
       "      <td>Offered</td>\n",
       "    </tr>\n",
       "    <tr>\n",
       "      <th>46834</th>\n",
       "      <td>378479</td>\n",
       "      <td>2024-05-01 00:32:00</td>\n",
       "      <td>NaN</td>\n",
       "      <td></td>\n",
       "      <td>Product 2</td>\n",
       "      <td></td>\n",
       "      <td>Offered</td>\n",
       "    </tr>\n",
       "    <tr>\n",
       "      <th>46839</th>\n",
       "      <td>378474</td>\n",
       "      <td>2024-05-01 00:28:00</td>\n",
       "      <td>NaN</td>\n",
       "      <td></td>\n",
       "      <td>Product 1</td>\n",
       "      <td></td>\n",
       "      <td>Offered</td>\n",
       "    </tr>\n",
       "  </tbody>\n",
       "</table>\n",
       "<p>841 rows × 7 columns</p>\n",
       "</div>"
      ],
      "text/plain": [
       "       ticket_id    request_datetime agent agent_team request_type reply_time  \\\n",
       "7         426974 2024-05-31 23:54:00   NaN                   Empty              \n",
       "44        426932 2024-05-31 23:27:00   NaN              Product 1               \n",
       "70        426906 2024-05-31 23:11:00   NaN                   Empty              \n",
       "89        426887 2024-05-31 23:00:00   NaN              Product 1               \n",
       "94        426882 2024-05-31 22:59:00   NaN              Product 1               \n",
       "...          ...                 ...   ...        ...          ...        ...   \n",
       "46811     378504 2024-05-01 00:46:00   NaN                   Empty              \n",
       "46815     378499 2024-05-01 00:43:00   NaN                   Empty              \n",
       "46817     378496 2024-05-01 00:42:00   NaN              Product 1               \n",
       "46834     378479 2024-05-01 00:32:00   NaN              Product 2               \n",
       "46839     378474 2024-05-01 00:28:00   NaN              Product 1               \n",
       "\n",
       "      satisfaction_score  \n",
       "7              Unoffered  \n",
       "44               Offered  \n",
       "70             Unoffered  \n",
       "89               Offered  \n",
       "94               Offered  \n",
       "...                  ...  \n",
       "46811            Offered  \n",
       "46815          Unoffered  \n",
       "46817            Offered  \n",
       "46834            Offered  \n",
       "46839            Offered  \n",
       "\n",
       "[841 rows x 7 columns]"
      ]
     },
     "execution_count": 11,
     "metadata": {},
     "output_type": "execute_result"
    }
   ],
   "source": [
    "no_reply = df.query(\"agent_team == ' '\")\n",
    "no_reply"
   ]
  },
  {
   "cell_type": "code",
   "execution_count": 12,
   "metadata": {},
   "outputs": [
    {
     "data": {
      "text/plain": [
       "0.017942864457767063"
      ]
     },
     "execution_count": 12,
     "metadata": {},
     "output_type": "execute_result"
    }
   ],
   "source": [
    "no_reply.size / df.size"
   ]
  },
  {
   "cell_type": "code",
   "execution_count": 13,
   "metadata": {},
   "outputs": [],
   "source": [
    "df.drop(no_reply.index, inplace=True)"
   ]
  },
  {
   "cell_type": "code",
   "execution_count": 14,
   "metadata": {},
   "outputs": [
    {
     "data": {
      "text/plain": [
       "array(['Jim', 'Trevor', 'Fate', 'Dwight', 'Scott', 'Harry', 'Matheo',\n",
       "       'Leo', 'Markus', 'Holly', 'Sophia', 'Orianna', 'Vito', 'Dan',\n",
       "       'Zoe', 'Quentin', 'Irene', 'Dean', 'Max', 'Emma', 'Nathan',\n",
       "       'Oscar', 'Jeff', 'John', 'Steve', 'Lisa', 'Tracy', 'James', 'Luc',\n",
       "       'Lily', 'Eva', 'Dylan', 'Bella', 'Tina', 'Charles', 'Nicole',\n",
       "       'Jessica', 'April', 'Goldie', 'Permanently deleted user'],\n",
       "      dtype=object)"
      ]
     },
     "execution_count": 14,
     "metadata": {},
     "output_type": "execute_result"
    }
   ],
   "source": [
    "df[\"agent\"].unique()"
   ]
  },
  {
   "cell_type": "code",
   "execution_count": 15,
   "metadata": {},
   "outputs": [
    {
     "data": {
      "text/html": [
       "<div>\n",
       "<style scoped>\n",
       "    .dataframe tbody tr th:only-of-type {\n",
       "        vertical-align: middle;\n",
       "    }\n",
       "\n",
       "    .dataframe tbody tr th {\n",
       "        vertical-align: top;\n",
       "    }\n",
       "\n",
       "    .dataframe thead th {\n",
       "        text-align: right;\n",
       "    }\n",
       "</style>\n",
       "<table border=\"1\" class=\"dataframe\">\n",
       "  <thead>\n",
       "    <tr style=\"text-align: right;\">\n",
       "      <th></th>\n",
       "      <th>ticket_id</th>\n",
       "      <th>request_datetime</th>\n",
       "      <th>agent</th>\n",
       "      <th>agent_team</th>\n",
       "      <th>request_type</th>\n",
       "      <th>reply_time</th>\n",
       "      <th>satisfaction_score</th>\n",
       "    </tr>\n",
       "  </thead>\n",
       "  <tbody>\n",
       "    <tr>\n",
       "      <th>46690</th>\n",
       "      <td>378627</td>\n",
       "      <td>2024-05-01 02:22:00</td>\n",
       "      <td>Permanently deleted user</td>\n",
       "      <td>Team 3</td>\n",
       "      <td>Other</td>\n",
       "      <td>398</td>\n",
       "      <td>Unoffered</td>\n",
       "    </tr>\n",
       "  </tbody>\n",
       "</table>\n",
       "</div>"
      ],
      "text/plain": [
       "       ticket_id    request_datetime                     agent agent_team  \\\n",
       "46690     378627 2024-05-01 02:22:00  Permanently deleted user    Team 3    \n",
       "\n",
       "      request_type reply_time satisfaction_score  \n",
       "46690        Other        398          Unoffered  "
      ]
     },
     "execution_count": 15,
     "metadata": {},
     "output_type": "execute_result"
    }
   ],
   "source": [
    "df.query(\"agent == 'Permanently deleted user'\")"
   ]
  },
  {
   "cell_type": "code",
   "execution_count": 16,
   "metadata": {},
   "outputs": [
    {
     "data": {
      "text/plain": [
       "array(['Unoffered', 'Offered', 'Good with Comment', 'Bad with Comment',\n",
       "       'Good', 'Bad'], dtype=object)"
      ]
     },
     "execution_count": 16,
     "metadata": {},
     "output_type": "execute_result"
    }
   ],
   "source": [
    "df[\"satisfaction_score\"].unique()"
   ]
  },
  {
   "cell_type": "code",
   "execution_count": 292,
   "metadata": {},
   "outputs": [],
   "source": [
    "sizes = np.array([df.query('satisfaction_score== \"{}\"'.format(lebel)).shape[0] for lebel in df[\"satisfaction_score\"].unique()])\n",
    "sizes = sizes / sum(sizes)\n",
    "sizes = sizes\n",
    "\n",
    "lebels = df[\"satisfaction_score\"].unique()"
   ]
  },
  {
   "cell_type": "code",
   "execution_count": 198,
   "metadata": {},
   "outputs": [
    {
     "data": {
      "text/plain": [
       "0.7455572452748208"
      ]
     },
     "execution_count": 198,
     "metadata": {},
     "output_type": "execute_result"
    }
   ],
   "source": [
    "sizes[1]"
   ]
  },
  {
   "cell_type": "markdown",
   "metadata": {},
   "source": [
    "Не пройшли опитування 92 відсотки"
   ]
  },
  {
   "cell_type": "code",
   "execution_count": 294,
   "metadata": {},
   "outputs": [
    {
     "data": {
      "image/png": "[encoded data removed]",
      "text/plain": [
       "<Figure size 640x480 with 1 Axes>"
      ]
     },
     "metadata": {},
     "output_type": "display_data"
    }
   ],
   "source": [
    "fig, ax = plt.subplots()\n",
    "ax.pie(sizes, labels=df[\"satisfaction_score\"].unique(), autopct='%1.1f%%')\n",
    "plt.title(\"Оцінка якості обслуговування\")\n",
    "plt.show()"
   ]
  },
  {
   "cell_type": "code",
   "execution_count": 196,
   "metadata": {},
   "outputs": [],
   "source": [
    "grades = sizes[2:]\n",
    "grades = grades / sum(grades)"
   ]
  },
  {
   "cell_type": "code",
   "execution_count": 197,
   "metadata": {},
   "outputs": [
    {
     "data": {
      "text/plain": [
       "0.8629400698736899"
      ]
     },
     "execution_count": 197,
     "metadata": {},
     "output_type": "execute_result"
    }
   ],
   "source": [
    "grades[0] + grades[2]"
   ]
  },
  {
   "cell_type": "markdown",
   "metadata": {},
   "source": [
    "Позитивних оцінок - 86%"
   ]
  },
  {
   "cell_type": "code",
   "execution_count": 201,
   "metadata": {},
   "outputs": [
    {
     "data": {
      "text/plain": [
       "0.031240495329133176"
      ]
     },
     "execution_count": 201,
     "metadata": {},
     "output_type": "execute_result"
    }
   ],
   "source": [
    "df.query(\"reply_time > '90'\").shape[0] / df.shape[0]"
   ]
  },
  {
   "cell_type": "code",
   "execution_count": 223,
   "metadata": {},
   "outputs": [
    {
     "data": {
      "text/plain": [
       "12.903225806451612"
      ]
     },
     "execution_count": 223,
     "metadata": {},
     "output_type": "execute_result"
    }
   ],
   "source": [
    "df.query(\"reply_time > '90' and (satisfaction_score == 'Bad' or satisfaction_score == 'Bad with Comment')\").shape[0] / df.query(\"reply_time > '90' and (satisfaction_score == 'Good' or satisfaction_score == 'Bad' or satisfaction_score == 'Good with Comment' or satisfaction_score == 'Bad with Comment')\").shape[0] * 100"
   ]
  },
  {
   "cell_type": "code",
   "execution_count": 221,
   "metadata": {},
   "outputs": [
    {
     "data": {
      "text/html": [
       "<div>\n",
       "<style scoped>\n",
       "    .dataframe tbody tr th:only-of-type {\n",
       "        vertical-align: middle;\n",
       "    }\n",
       "\n",
       "    .dataframe tbody tr th {\n",
       "        vertical-align: top;\n",
       "    }\n",
       "\n",
       "    .dataframe thead th {\n",
       "        text-align: right;\n",
       "    }\n",
       "</style>\n",
       "<table border=\"1\" class=\"dataframe\">\n",
       "  <thead>\n",
       "    <tr style=\"text-align: right;\">\n",
       "      <th></th>\n",
       "      <th>ticket_id</th>\n",
       "      <th>request_datetime</th>\n",
       "      <th>agent</th>\n",
       "      <th>agent_team</th>\n",
       "      <th>request_type</th>\n",
       "      <th>reply_time</th>\n",
       "      <th>satisfaction_score</th>\n",
       "    </tr>\n",
       "  </thead>\n",
       "  <tbody>\n",
       "    <tr>\n",
       "      <th>1341</th>\n",
       "      <td>425591</td>\n",
       "      <td>2024-05-31 05:00:00</td>\n",
       "      <td>Fate</td>\n",
       "      <td>Team 1</td>\n",
       "      <td>Product 1</td>\n",
       "      <td>93</td>\n",
       "      <td>Good</td>\n",
       "    </tr>\n",
       "    <tr>\n",
       "      <th>1916</th>\n",
       "      <td>424986</td>\n",
       "      <td>2024-05-30 21:23:00</td>\n",
       "      <td>Scott</td>\n",
       "      <td>Team 1</td>\n",
       "      <td>Product 1</td>\n",
       "      <td>94</td>\n",
       "      <td>Good</td>\n",
       "    </tr>\n",
       "    <tr>\n",
       "      <th>2409</th>\n",
       "      <td>424472</td>\n",
       "      <td>2024-05-30 15:26:00</td>\n",
       "      <td>Scott</td>\n",
       "      <td>Team 1</td>\n",
       "      <td>Product 1</td>\n",
       "      <td>94</td>\n",
       "      <td>Good with Comment</td>\n",
       "    </tr>\n",
       "    <tr>\n",
       "      <th>2511</th>\n",
       "      <td>424367</td>\n",
       "      <td>2024-05-30 13:54:00</td>\n",
       "      <td>Scott</td>\n",
       "      <td>Team 1</td>\n",
       "      <td>Product 1</td>\n",
       "      <td>96</td>\n",
       "      <td>Good</td>\n",
       "    </tr>\n",
       "    <tr>\n",
       "      <th>3051</th>\n",
       "      <td>423800</td>\n",
       "      <td>2024-05-30 04:25:00</td>\n",
       "      <td>Scott</td>\n",
       "      <td>Team 1</td>\n",
       "      <td>Product 1</td>\n",
       "      <td>94</td>\n",
       "      <td>Good with Comment</td>\n",
       "    </tr>\n",
       "    <tr>\n",
       "      <th>...</th>\n",
       "      <td>...</td>\n",
       "      <td>...</td>\n",
       "      <td>...</td>\n",
       "      <td>...</td>\n",
       "      <td>...</td>\n",
       "      <td>...</td>\n",
       "      <td>...</td>\n",
       "    </tr>\n",
       "    <tr>\n",
       "      <th>42597</th>\n",
       "      <td>382918</td>\n",
       "      <td>2024-05-04 23:21:00</td>\n",
       "      <td>Scott</td>\n",
       "      <td>Team 1</td>\n",
       "      <td>Product 1</td>\n",
       "      <td>93</td>\n",
       "      <td>Good</td>\n",
       "    </tr>\n",
       "    <tr>\n",
       "      <th>42749</th>\n",
       "      <td>382765</td>\n",
       "      <td>2024-05-04 20:01:00</td>\n",
       "      <td>Dwight</td>\n",
       "      <td>Team 1</td>\n",
       "      <td>Product 1</td>\n",
       "      <td>95</td>\n",
       "      <td>Good</td>\n",
       "    </tr>\n",
       "    <tr>\n",
       "      <th>44240</th>\n",
       "      <td>381210</td>\n",
       "      <td>2024-05-03 11:45:00</td>\n",
       "      <td>Harry</td>\n",
       "      <td>Team 1</td>\n",
       "      <td>Product 1</td>\n",
       "      <td>96</td>\n",
       "      <td>Good with Comment</td>\n",
       "    </tr>\n",
       "    <tr>\n",
       "      <th>46234</th>\n",
       "      <td>379103</td>\n",
       "      <td>2024-05-01 12:51:00</td>\n",
       "      <td>Harry</td>\n",
       "      <td>Team 1</td>\n",
       "      <td>Product 1</td>\n",
       "      <td>91</td>\n",
       "      <td>Good with Comment</td>\n",
       "    </tr>\n",
       "    <tr>\n",
       "      <th>46522</th>\n",
       "      <td>378805</td>\n",
       "      <td>2024-05-01 05:49:00</td>\n",
       "      <td>Charles</td>\n",
       "      <td>Team 3</td>\n",
       "      <td>Product 1</td>\n",
       "      <td>98</td>\n",
       "      <td>Good with Comment</td>\n",
       "    </tr>\n",
       "  </tbody>\n",
       "</table>\n",
       "<p>108 rows × 7 columns</p>\n",
       "</div>"
      ],
      "text/plain": [
       "       ticket_id    request_datetime    agent agent_team request_type  \\\n",
       "1341      425591 2024-05-31 05:00:00     Fate    Team 1    Product 1    \n",
       "1916      424986 2024-05-30 21:23:00    Scott    Team 1    Product 1    \n",
       "2409      424472 2024-05-30 15:26:00    Scott    Team 1    Product 1    \n",
       "2511      424367 2024-05-30 13:54:00    Scott    Team 1    Product 1    \n",
       "3051      423800 2024-05-30 04:25:00    Scott    Team 1    Product 1    \n",
       "...          ...                 ...      ...        ...          ...   \n",
       "42597     382918 2024-05-04 23:21:00    Scott    Team 1    Product 1    \n",
       "42749     382765 2024-05-04 20:01:00   Dwight    Team 1    Product 1    \n",
       "44240     381210 2024-05-03 11:45:00    Harry    Team 1    Product 1    \n",
       "46234     379103 2024-05-01 12:51:00    Harry    Team 1    Product 1    \n",
       "46522     378805 2024-05-01 05:49:00  Charles    Team 3    Product 1    \n",
       "\n",
       "      reply_time satisfaction_score  \n",
       "1341          93               Good  \n",
       "1916          94               Good  \n",
       "2409          94  Good with Comment  \n",
       "2511          96               Good  \n",
       "3051          94  Good with Comment  \n",
       "...          ...                ...  \n",
       "42597         93               Good  \n",
       "42749         95               Good  \n",
       "44240         96  Good with Comment  \n",
       "46234         91  Good with Comment  \n",
       "46522         98  Good with Comment  \n",
       "\n",
       "[108 rows x 7 columns]"
      ]
     },
     "execution_count": 221,
     "metadata": {},
     "output_type": "execute_result"
    }
   ],
   "source": [
    "df.query(\"reply_time > '90' and (satisfaction_score == 'Good' or satisfaction_score == 'Good with Comment')\")"
   ]
  },
  {
   "cell_type": "code",
   "execution_count": 319,
   "metadata": {},
   "outputs": [],
   "source": [
    "sizes = np.array([df.query('agent_team== \"{}\"'.format(lebel)).shape[0] for lebel in df[\"agent_team\"].unique()])\n",
    "sizes = sizes * 100"
   ]
  },
  {
   "cell_type": "code",
   "execution_count": 320,
   "metadata": {},
   "outputs": [
    {
     "data": {
      "image/png": "[encoded data removed]",
      "text/plain": [
       "<Figure size 640x480 with 1 Axes>"
      ]
     },
     "metadata": {},
     "output_type": "display_data"
    }
   ],
   "source": [
    "fig, ax = plt.subplots()\n",
    "ax.pie(sizes, labels=df[\"agent_team\"].unique())\n",
    "plt.title(\"Розподіл звернень по командам\")\n",
    "plt.show()"
   ]
  },
  {
   "cell_type": "code",
   "execution_count": 326,
   "metadata": {},
   "outputs": [
    {
     "data": {
      "text/plain": [
       "Text(0.5, 1.0, 'Кількість агентів з відповідними відсотками задоволеності клієнтів')"
      ]
     },
     "execution_count": 326,
     "metadata": {},
     "output_type": "execute_result"
    },
    {
     "data": {
      "image/png": "[encoded data removed]",
      "text/plain": [
       "<Figure size 640x480 with 1 Axes>"
      ]
     },
     "metadata": {},
     "output_type": "display_data"
    }
   ],
   "source": [
    "plt.pie([5, 18, 10, 3])\n",
    "plt.legend(labels=[\">90%\", \"від 85% до 90%\", \"від 80% до 85%\", \"<80%\"])\n",
    "plt.title(\"Кількість агентів з відповідними відсотками задоволеності клієнтів\")"
   ]
  },
  {
   "cell_type": "code",
   "execution_count": 270,
   "metadata": {},
   "outputs": [
    {
     "data": {
      "text/plain": [
       "array([1019, 2433, 1562, 1133, 3040, 1501, 1101,  583,  915])"
      ]
     },
     "execution_count": 270,
     "metadata": {},
     "output_type": "execute_result"
    }
   ],
   "source": [
    "sizes = np.array([df.query('agent== \"{}\"'.format(lebel)).shape[0] for lebel in df.query('agent_team== \"{}\"'.format('Team 1 '))[\"agent\"].unique()])\n",
    "lebels = df.query('agent_team== \"{}\"'.format('Team 1 '))[\"agent\"].unique()\n",
    "sizes = sizes\n",
    "sizes"
   ]
  },
  {
   "cell_type": "code",
   "execution_count": 271,
   "metadata": {},
   "outputs": [
    {
     "data": {
      "image/png": "[encoded data removed]",
      "text/plain": [
       "<Figure size 1000x500 with 1 Axes>"
      ]
     },
     "metadata": {},
     "output_type": "display_data"
    }
   ],
   "source": [
    "fig = plt.figure(figsize = (10, 5))\n",
    "plt.bar(lebels, sizes)\n",
    "plt.title(\"Розподіл звернень по агентам команди Team 1\")\n",
    "#plt.legend()\n",
    "plt.show()"
   ]
  },
  {
   "cell_type": "code",
   "execution_count": 272,
   "metadata": {},
   "outputs": [
    {
     "data": {
      "text/plain": [
       "array([1065,  945,  703,  868, 1036, 1250, 1177,  241, 1551, 2436,  891,\n",
       "       2500, 3030])"
      ]
     },
     "execution_count": 272,
     "metadata": {},
     "output_type": "execute_result"
    }
   ],
   "source": [
    "sizes = np.array([df.query('agent== \"{}\"'.format(lebel)).shape[0] for lebel in df.query('agent_team== \"{}\"'.format('Team 2 '))[\"agent\"].unique()])\n",
    "lebels = df.query('agent_team== \"{}\"'.format('Team 2 '))[\"agent\"].unique()\n",
    "sizes"
   ]
  },
  {
   "cell_type": "code",
   "execution_count": 273,
   "metadata": {},
   "outputs": [
    {
     "data": {
      "image/png": "[encoded data removed]",
      "text/plain": [
       "<Figure size 1000x500 with 1 Axes>"
      ]
     },
     "metadata": {},
     "output_type": "display_data"
    }
   ],
   "source": [
    "fig = plt.figure(figsize = (10, 5))\n",
    "plt.bar(lebels, sizes)\n",
    "plt.title(\"Розподіл звернень по агентам команди Team 2\")\n",
    "#plt.legend()\n",
    "plt.show()"
   ]
  },
  {
   "cell_type": "code",
   "execution_count": 274,
   "metadata": {},
   "outputs": [
    {
     "data": {
      "text/plain": [
       "array([1742,  777, 1490,  996,  540,  860, 1414, 1300, 1280,  883, 1551,\n",
       "        243, 1353,   96,   76,  422,   26,    1])"
      ]
     },
     "execution_count": 274,
     "metadata": {},
     "output_type": "execute_result"
    }
   ],
   "source": [
    "sizes = np.array([df.query('agent== \"{}\"'.format(lebel)).shape[0] for lebel in df.query('agent_team== \"{}\"'.format('Team 3 '))[\"agent\"].unique()])\n",
    "lebels = df.query('agent_team== \"{}\"'.format('Team 3 '))[\"agent\"].unique()\n",
    "sizes"
   ]
  },
  {
   "cell_type": "code",
   "execution_count": 275,
   "metadata": {},
   "outputs": [
    {
     "data": {
      "image/png": "[encoded data removed]",
      "text/plain": [
       "<Figure size 1300x500 with 1 Axes>"
      ]
     },
     "metadata": {},
     "output_type": "display_data"
    }
   ],
   "source": [
    "fig = plt.figure(figsize = (13, 5))\n",
    "plt.bar(lebels[:-1], sizes[:-1])\n",
    "plt.title(\"Розподіл звернень по агентам команди Team 3\")\n",
    "#plt.legend()\n",
    "plt.show()"
   ]
  },
  {
   "cell_type": "code",
   "execution_count": 182,
   "metadata": {},
   "outputs": [],
   "source": [
    "good_t1 = df.query(\" agent_team == 'Team 1 'and (satisfaction_score== 'Good' or satisfaction_score== 'Good with Comment')\").groupby(\"agent\")[\"satisfaction_score\"].count()\n",
    "bad_t1 = df.query(\" agent_team == 'Team 1 'and (satisfaction_score== 'Bad' or satisfaction_score== 'Bad with Comment')\").groupby(\"agent\")[\"satisfaction_score\"].count()\n",
    "good_t2 = df.query(\" agent_team == 'Team 2 'and (satisfaction_score== 'Good' or satisfaction_score== 'Good with Comment')\").groupby(\"agent\")[\"satisfaction_score\"].count()\n",
    "bad_t2 = df.query(\" agent_team == 'Team 2 'and (satisfaction_score== 'Bad' or satisfaction_score== 'Bad with Comment')\").groupby(\"agent\")[\"satisfaction_score\"].count()\n",
    "good_t3 = df.query(\" agent_team == 'Team 3 'and (satisfaction_score== 'Good' or satisfaction_score== 'Good with Comment')\").groupby(\"agent\")[\"satisfaction_score\"].count()\n",
    "bad_t3 = df.query(\" agent_team == 'Team 3 'and (satisfaction_score== 'Bad' or satisfaction_score== 'Bad with Comment')\").groupby(\"agent\")[\"satisfaction_score\"].count()"
   ]
  },
  {
   "cell_type": "code",
   "execution_count": 224,
   "metadata": {},
   "outputs": [
    {
     "data": {
      "text/plain": [
       "agent\n",
       "Dwight    0.890625\n",
       "Fate      0.826446\n",
       "Harry     0.890511\n",
       "Jim       0.829545\n",
       "Leo       0.789474\n",
       "Markus    0.897727\n",
       "Matheo    0.886364\n",
       "Scott     0.832727\n",
       "Trevor    0.875000\n",
       "Name: satisfaction_score, dtype: float64"
      ]
     },
     "execution_count": 224,
     "metadata": {},
     "output_type": "execute_result"
    }
   ],
   "source": [
    "stats1 =good_t1 / (good_t1 + bad_t1)\n",
    "stats1"
   ]
  },
  {
   "cell_type": "code",
   "execution_count": 225,
   "metadata": {},
   "outputs": [
    {
     "data": {
      "text/plain": [
       "agent\n",
       "Dan        0.873239\n",
       "Dean       0.887931\n",
       "Emma       0.898551\n",
       "Holly      0.895833\n",
       "Irene      0.777778\n",
       "Max        0.833333\n",
       "Nathan     0.858491\n",
       "Orianna    0.962264\n",
       "Oscar      0.839806\n",
       "Quentin    0.810345\n",
       "Sophia     0.937500\n",
       "Vito       0.826087\n",
       "Zoe        0.871795\n",
       "Name: satisfaction_score, dtype: float64"
      ]
     },
     "execution_count": 225,
     "metadata": {},
     "output_type": "execute_result"
    }
   ],
   "source": [
    "stats2 = good_t2 / (good_t2 + bad_t2)\n",
    "stats2"
   ]
  },
  {
   "cell_type": "code",
   "execution_count": 241,
   "metadata": {},
   "outputs": [
    {
     "data": {
      "text/plain": [
       "agent\n",
       "April      0.825000\n",
       "Bella      0.741176\n",
       "Charles    0.899160\n",
       "Dylan      0.866667\n",
       "Eva        0.857143\n",
       "Goldie          NaN\n",
       "James      0.964286\n",
       "Jeff       0.877863\n",
       "Jessica    0.833333\n",
       "John       0.902778\n",
       "Lily       0.838710\n",
       "Lisa       0.868421\n",
       "Luc        0.851852\n",
       "Nicole          NaN\n",
       "Steve      0.923664\n",
       "Tina       0.888889\n",
       "Tracy           NaN\n",
       "Name: satisfaction_score, dtype: float64"
      ]
     },
     "execution_count": 241,
     "metadata": {},
     "output_type": "execute_result"
    }
   ],
   "source": [
    "stats3 = good_t3 / (good_t3 + bad_t3)\n",
    "stats3"
   ]
  },
  {
   "cell_type": "code",
   "execution_count": 234,
   "metadata": {},
   "outputs": [
    {
     "data": {
      "text/plain": [
       "33"
      ]
     },
     "execution_count": 234,
     "metadata": {},
     "output_type": "execute_result"
    }
   ],
   "source": [
    "sum(stats1>=0.8) + sum(stats2>=0.8) + sum(stats3>=0.8)"
   ]
  },
  {
   "cell_type": "code",
   "execution_count": 229,
   "metadata": {},
   "outputs": [
    {
     "data": {
      "text/plain": [
       "31"
      ]
     },
     "execution_count": 229,
     "metadata": {},
     "output_type": "execute_result"
    }
   ],
   "source": [
    "sum(stats1<0.9) + sum(stats2<0.9) + sum(stats3<0.9)"
   ]
  },
  {
   "cell_type": "code",
   "execution_count": 288,
   "metadata": {},
   "outputs": [],
   "source": [
    "all_t1 = df.query(\" agent_team == 'Team 1 '\").groupby(\"agent\")[\"request_datetime\"].count()\n",
    "bad_t1 = df.query(\" agent_team == 'Team 1 'and (satisfaction_score== 'Bad' or satisfaction_score== 'Bad with Comment')\").groupby(\"agent\")[\"satisfaction_score\"].count()\n",
    "all_t2 = df.query(\" agent_team == 'Team 2 '\").groupby(\"agent\")[\"request_datetime\"].count()\n",
    "bad_t2 = df.query(\" agent_team == 'Team 2 'and (satisfaction_score== 'Bad' or satisfaction_score== 'Bad with Comment')\").groupby(\"agent\")[\"satisfaction_score\"].count()\n",
    "all_t3 = df.query(\" agent_team == 'Team 3 '\").groupby(\"agent\")[\"request_datetime\"].count()\n",
    "bad_t3 = df.query(\" agent_team == 'Team 3 'and (satisfaction_score== 'Bad' or satisfaction_score== 'Bad with Comment')\").groupby(\"agent\")[\"satisfaction_score\"].count()"
   ]
  },
  {
   "cell_type": "code",
   "execution_count": 289,
   "metadata": {},
   "outputs": [
    {
     "data": {
      "text/plain": [
       "agent\n",
       "Dwight    0.617829\n",
       "Fate      1.344430\n",
       "Harry     0.999334\n",
       "Jim       1.472031\n",
       "Leo       1.372213\n",
       "Markus    0.983607\n",
       "Matheo    0.908265\n",
       "Scott     1.513158\n",
       "Trevor    1.315249\n",
       "dtype: float64"
      ]
     },
     "execution_count": 289,
     "metadata": {},
     "output_type": "execute_result"
    }
   ],
   "source": [
    "stats1 =bad_t1 / all_t1 * 100\n",
    "stats1"
   ]
  },
  {
   "cell_type": "code",
   "execution_count": 290,
   "metadata": {},
   "outputs": [
    {
     "data": {
      "text/plain": [
       "agent\n",
       "Dan        0.868726\n",
       "Dean       0.838169\n",
       "Emma       0.785634\n",
       "Holly      0.938967\n",
       "Irene      3.319502\n",
       "Max        1.518883\n",
       "Nathan     1.200000\n",
       "Orianna    0.284495\n",
       "Oscar      1.089109\n",
       "Quentin    1.869159\n",
       "Sophia     0.529101\n",
       "Vito       1.382488\n",
       "Zoe        1.200000\n",
       "dtype: float64"
      ]
     },
     "execution_count": 290,
     "metadata": {},
     "output_type": "execute_result"
    }
   ],
   "source": [
    "stats2 =bad_t2 / all_t2 * 100\n",
    "stats2"
   ]
  },
  {
   "cell_type": "code",
   "execution_count": 291,
   "metadata": {},
   "outputs": [
    {
     "data": {
      "text/plain": [
       "agent\n",
       "April                       1.658768\n",
       "Bella                       1.418440\n",
       "Charles                     0.886918\n",
       "Dylan                       1.359003\n",
       "Eva                         0.937500\n",
       "Goldie                           NaN\n",
       "James                       0.116279\n",
       "Jeff                        0.918485\n",
       "Jessica                     2.631579\n",
       "John                        0.900901\n",
       "Lily                        1.153846\n",
       "Lisa                        1.004016\n",
       "Luc                         1.131542\n",
       "Nicole                           NaN\n",
       "Permanently deleted user         NaN\n",
       "Steve                       0.671141\n",
       "Tina                        0.823045\n",
       "Tracy                            NaN\n",
       "dtype: float64"
      ]
     },
     "execution_count": 291,
     "metadata": {},
     "output_type": "execute_result"
    }
   ],
   "source": [
    "stats3 =bad_t3 / all_t3 * 100\n",
    "stats3"
   ]
  },
  {
   "cell_type": "code",
   "execution_count": 244,
   "metadata": {},
   "outputs": [
    {
     "data": {
      "text/html": [
       "<div>\n",
       "<style scoped>\n",
       "    .dataframe tbody tr th:only-of-type {\n",
       "        vertical-align: middle;\n",
       "    }\n",
       "\n",
       "    .dataframe tbody tr th {\n",
       "        vertical-align: top;\n",
       "    }\n",
       "\n",
       "    .dataframe thead th {\n",
       "        text-align: right;\n",
       "    }\n",
       "</style>\n",
       "<table border=\"1\" class=\"dataframe\">\n",
       "  <thead>\n",
       "    <tr style=\"text-align: right;\">\n",
       "      <th></th>\n",
       "      <th>ticket_id</th>\n",
       "      <th>request_datetime</th>\n",
       "      <th>agent</th>\n",
       "      <th>agent_team</th>\n",
       "      <th>request_type</th>\n",
       "      <th>reply_time</th>\n",
       "      <th>satisfaction_score</th>\n",
       "    </tr>\n",
       "  </thead>\n",
       "  <tbody>\n",
       "    <tr>\n",
       "      <th>79</th>\n",
       "      <td>426897</td>\n",
       "      <td>2024-05-31 23:05:00</td>\n",
       "      <td>Irene</td>\n",
       "      <td>Team 2</td>\n",
       "      <td>Customer Success</td>\n",
       "      <td>24</td>\n",
       "      <td>Offered</td>\n",
       "    </tr>\n",
       "    <tr>\n",
       "      <th>91</th>\n",
       "      <td>426885</td>\n",
       "      <td>2024-05-31 23:00:00</td>\n",
       "      <td>Irene</td>\n",
       "      <td>Team 2</td>\n",
       "      <td>Customer Success</td>\n",
       "      <td>16</td>\n",
       "      <td>Offered</td>\n",
       "    </tr>\n",
       "    <tr>\n",
       "      <th>97</th>\n",
       "      <td>426879</td>\n",
       "      <td>2024-05-31 22:58:00</td>\n",
       "      <td>Irene</td>\n",
       "      <td>Team 2</td>\n",
       "      <td>Customer Success</td>\n",
       "      <td>34</td>\n",
       "      <td>Offered</td>\n",
       "    </tr>\n",
       "    <tr>\n",
       "      <th>569</th>\n",
       "      <td>426389</td>\n",
       "      <td>2024-05-31 17:41:00</td>\n",
       "      <td>Irene</td>\n",
       "      <td>Team 2</td>\n",
       "      <td>Customer Success</td>\n",
       "      <td>31</td>\n",
       "      <td>Unoffered</td>\n",
       "    </tr>\n",
       "    <tr>\n",
       "      <th>1314</th>\n",
       "      <td>425618</td>\n",
       "      <td>2024-05-31 05:27:00</td>\n",
       "      <td>Irene</td>\n",
       "      <td>Team 2</td>\n",
       "      <td>Customer Success</td>\n",
       "      <td>2</td>\n",
       "      <td>Offered</td>\n",
       "    </tr>\n",
       "    <tr>\n",
       "      <th>...</th>\n",
       "      <td>...</td>\n",
       "      <td>...</td>\n",
       "      <td>...</td>\n",
       "      <td>...</td>\n",
       "      <td>...</td>\n",
       "      <td>...</td>\n",
       "      <td>...</td>\n",
       "    </tr>\n",
       "    <tr>\n",
       "      <th>45816</th>\n",
       "      <td>379536</td>\n",
       "      <td>2024-05-01 20:54:00</td>\n",
       "      <td>Irene</td>\n",
       "      <td>Team 2</td>\n",
       "      <td>Customer Success</td>\n",
       "      <td>19</td>\n",
       "      <td>Offered</td>\n",
       "    </tr>\n",
       "    <tr>\n",
       "      <th>45823</th>\n",
       "      <td>379529</td>\n",
       "      <td>2024-05-01 20:45:00</td>\n",
       "      <td>Irene</td>\n",
       "      <td>Team 2</td>\n",
       "      <td>Customer Success</td>\n",
       "      <td>15</td>\n",
       "      <td>Good</td>\n",
       "    </tr>\n",
       "    <tr>\n",
       "      <th>45841</th>\n",
       "      <td>379511</td>\n",
       "      <td>2024-05-01 20:26:00</td>\n",
       "      <td>Irene</td>\n",
       "      <td>Team 2</td>\n",
       "      <td>Customer Success</td>\n",
       "      <td>20</td>\n",
       "      <td>Good with Comment</td>\n",
       "    </tr>\n",
       "    <tr>\n",
       "      <th>45879</th>\n",
       "      <td>379472</td>\n",
       "      <td>2024-05-01 19:47:00</td>\n",
       "      <td>Irene</td>\n",
       "      <td>Team 2</td>\n",
       "      <td>Customer Success</td>\n",
       "      <td>33</td>\n",
       "      <td>Offered</td>\n",
       "    </tr>\n",
       "    <tr>\n",
       "      <th>45885</th>\n",
       "      <td>379466</td>\n",
       "      <td>2024-05-01 19:42:00</td>\n",
       "      <td>Irene</td>\n",
       "      <td>Team 2</td>\n",
       "      <td>Customer Success</td>\n",
       "      <td>44</td>\n",
       "      <td>Bad</td>\n",
       "    </tr>\n",
       "  </tbody>\n",
       "</table>\n",
       "<p>241 rows × 7 columns</p>\n",
       "</div>"
      ],
      "text/plain": [
       "       ticket_id    request_datetime  agent agent_team      request_type  \\\n",
       "79        426897 2024-05-31 23:05:00  Irene    Team 2   Customer Success   \n",
       "91        426885 2024-05-31 23:00:00  Irene    Team 2   Customer Success   \n",
       "97        426879 2024-05-31 22:58:00  Irene    Team 2   Customer Success   \n",
       "569       426389 2024-05-31 17:41:00  Irene    Team 2   Customer Success   \n",
       "1314      425618 2024-05-31 05:27:00  Irene    Team 2   Customer Success   \n",
       "...          ...                 ...    ...        ...               ...   \n",
       "45816     379536 2024-05-01 20:54:00  Irene    Team 2   Customer Success   \n",
       "45823     379529 2024-05-01 20:45:00  Irene    Team 2   Customer Success   \n",
       "45841     379511 2024-05-01 20:26:00  Irene    Team 2   Customer Success   \n",
       "45879     379472 2024-05-01 19:47:00  Irene    Team 2   Customer Success   \n",
       "45885     379466 2024-05-01 19:42:00  Irene    Team 2   Customer Success   \n",
       "\n",
       "      reply_time satisfaction_score  \n",
       "79            24            Offered  \n",
       "91            16            Offered  \n",
       "97            34            Offered  \n",
       "569           31          Unoffered  \n",
       "1314           2            Offered  \n",
       "...          ...                ...  \n",
       "45816         19            Offered  \n",
       "45823         15               Good  \n",
       "45841         20  Good with Comment  \n",
       "45879         33            Offered  \n",
       "45885         44                Bad  \n",
       "\n",
       "[241 rows x 7 columns]"
      ]
     },
     "execution_count": 244,
     "metadata": {},
     "output_type": "execute_result"
    }
   ],
   "source": [
    "df.query(\"agent == 'Irene'\")"
   ]
  },
  {
   "cell_type": "code",
   "execution_count": 237,
   "metadata": {},
   "outputs": [
    {
     "data": {
      "text/plain": [
       "8.333333333333332"
      ]
     },
     "execution_count": 237,
     "metadata": {},
     "output_type": "execute_result"
    }
   ],
   "source": [
    "3 / 36 * 100"
   ]
  },
  {
   "cell_type": "code",
   "execution_count": 264,
   "metadata": {},
   "outputs": [
    {
     "data": {
      "text/plain": [
       "agent\n",
       "Scott      46\n",
       "Max        37\n",
       "Oscar      33\n",
       "Trevor     32\n",
       "Nathan     30\n",
       "Bella      22\n",
       "Quentin    22\n",
       "Fate       21\n",
       "Luc        16\n",
       "Jeff       16\n",
       "Lily       15\n",
       "Jim        15\n",
       "Zoe        15\n",
       "Harry      15\n",
       "Dean       13\n",
       "Eva        12\n",
       "Dylan      12\n",
       "Vito       12\n",
       "Charles    12\n",
       "Holly      10\n",
       "Lisa       10\n",
       "Matheo     10\n",
       "Steve      10\n",
       "Dan         9\n",
       "Markus      9\n",
       "Leo         8\n",
       "Irene       8\n",
       "John        7\n",
       "Emma        7\n",
       "Dwight      7\n",
       "April       7\n",
       "Sophia      5\n",
       "Orianna     2\n",
       "Jessica     2\n",
       "Tina        2\n",
       "James       1\n",
       "Name: satisfaction_score, dtype: int64"
      ]
     },
     "execution_count": 264,
     "metadata": {},
     "output_type": "execute_result"
    }
   ],
   "source": [
    "df.query(\"(satisfaction_score == 'Bad' or satisfaction_score == 'Bad with Comment')\").groupby(\"agent\")[\"satisfaction_score\"].count().sort_values(ascending=False)"
   ]
  },
  {
   "cell_type": "code",
   "execution_count": 269,
   "metadata": {},
   "outputs": [
    {
     "data": {
      "text/plain": [
       "agent\n",
       "Scott                       3040\n",
       "Oscar                       3030\n",
       "Nathan                      2500\n",
       "Max                         2436\n",
       "Trevor                      2433\n",
       "Jeff                        1742\n",
       "Fate                        1562\n",
       "Dean                        1551\n",
       "Bella                       1551\n",
       "Harry                       1501\n",
       "Steve                       1490\n",
       "Luc                         1414\n",
       "Charles                     1353\n",
       "Lily                        1300\n",
       "Eva                         1280\n",
       "Zoe                         1250\n",
       "Quentin                     1177\n",
       "Dwight                      1133\n",
       "Matheo                      1101\n",
       "Holly                       1065\n",
       "Dan                         1036\n",
       "Jim                         1019\n",
       "Lisa                         996\n",
       "Sophia                       945\n",
       "Markus                       915\n",
       "Emma                         891\n",
       "Dylan                        883\n",
       "Vito                         868\n",
       "James                        860\n",
       "John                         777\n",
       "Orianna                      703\n",
       "Leo                          583\n",
       "Tracy                        540\n",
       "April                        422\n",
       "Tina                         243\n",
       "Irene                        241\n",
       "Nicole                        96\n",
       "Jessica                       76\n",
       "Goldie                        26\n",
       "Permanently deleted user       1\n",
       "Name: request_datetime, dtype: int64"
      ]
     },
     "execution_count": 269,
     "metadata": {},
     "output_type": "execute_result"
    }
   ],
   "source": [
    "df.groupby(\"agent\")[\"request_datetime\"].count().sort_values(ascending=False)"
   ]
  },
  {
   "cell_type": "code",
   "execution_count": 246,
   "metadata": {},
   "outputs": [
    {
     "data": {
      "text/plain": [
       "510"
      ]
     },
     "execution_count": 246,
     "metadata": {},
     "output_type": "execute_result"
    }
   ],
   "source": [
    "df.query(\"(satisfaction_score == 'Bad' or satisfaction_score == 'Bad with Comment')\").shape[0]"
   ]
  },
  {
   "cell_type": "code",
   "execution_count": 248,
   "metadata": {},
   "outputs": [
    {
     "data": {
      "text/plain": [
       "4.313725490196078"
      ]
     },
     "execution_count": 248,
     "metadata": {},
     "output_type": "execute_result"
    }
   ],
   "source": [
    "22 / 510 * 100"
   ]
  },
  {
   "cell_type": "code",
   "execution_count": 295,
   "metadata": {},
   "outputs": [
    {
     "data": {
      "text/html": [
       "<div>\n",
       "<style scoped>\n",
       "    .dataframe tbody tr th:only-of-type {\n",
       "        vertical-align: middle;\n",
       "    }\n",
       "\n",
       "    .dataframe tbody tr th {\n",
       "        vertical-align: top;\n",
       "    }\n",
       "\n",
       "    .dataframe thead th {\n",
       "        text-align: right;\n",
       "    }\n",
       "</style>\n",
       "<table border=\"1\" class=\"dataframe\">\n",
       "  <thead>\n",
       "    <tr style=\"text-align: right;\">\n",
       "      <th></th>\n",
       "      <th>ticket_id</th>\n",
       "      <th>request_datetime</th>\n",
       "      <th>agent</th>\n",
       "      <th>agent_team</th>\n",
       "      <th>request_type</th>\n",
       "      <th>reply_time</th>\n",
       "      <th>satisfaction_score</th>\n",
       "    </tr>\n",
       "  </thead>\n",
       "  <tbody>\n",
       "    <tr>\n",
       "      <th>0</th>\n",
       "      <td>426981</td>\n",
       "      <td>2024-05-31 23:59:00</td>\n",
       "      <td>Jim</td>\n",
       "      <td>Team 1</td>\n",
       "      <td>Product 1</td>\n",
       "      <td>84</td>\n",
       "      <td>Unoffered</td>\n",
       "    </tr>\n",
       "    <tr>\n",
       "      <th>1</th>\n",
       "      <td>426980</td>\n",
       "      <td>2024-05-31 23:57:00</td>\n",
       "      <td>Trevor</td>\n",
       "      <td>Team 1</td>\n",
       "      <td>Product 1</td>\n",
       "      <td>90</td>\n",
       "      <td>Offered</td>\n",
       "    </tr>\n",
       "    <tr>\n",
       "      <th>2</th>\n",
       "      <td>426979</td>\n",
       "      <td>2024-05-31 23:56:00</td>\n",
       "      <td>Trevor</td>\n",
       "      <td>Team 1</td>\n",
       "      <td>Other</td>\n",
       "      <td>93</td>\n",
       "      <td>Unoffered</td>\n",
       "    </tr>\n",
       "  </tbody>\n",
       "</table>\n",
       "</div>"
      ],
      "text/plain": [
       "   ticket_id    request_datetime   agent agent_team request_type reply_time  \\\n",
       "0     426981 2024-05-31 23:59:00     Jim    Team 1    Product 1          84   \n",
       "1     426980 2024-05-31 23:57:00  Trevor    Team 1    Product 1          90   \n",
       "2     426979 2024-05-31 23:56:00  Trevor    Team 1         Other         93   \n",
       "\n",
       "  satisfaction_score  \n",
       "0          Unoffered  \n",
       "1            Offered  \n",
       "2          Unoffered  "
      ]
     },
     "execution_count": 295,
     "metadata": {},
     "output_type": "execute_result"
    }
   ],
   "source": [
    "df.head(3)"
   ]
  },
  {
   "cell_type": "code",
   "execution_count": 299,
   "metadata": {},
   "outputs": [
    {
     "data": {
      "text/plain": [
       "agent\n",
       "Leo                         9.948542\n",
       "Scott                       9.671053\n",
       "Trevor                      9.617756\n",
       "Markus                      9.617486\n",
       "Fate                        9.218950\n",
       "Dwight                      9.002648\n",
       "Harry                       8.860759\n",
       "Jim                         8.537782\n",
       "Matheo                      7.175295\n",
       "Jessica                     3.947368\n",
       "Tracy                       2.037037\n",
       "Luc                         1.768034\n",
       "Bella                       1.740812\n",
       "Charles                     1.699926\n",
       "Lily                        1.538462\n",
       "James                       1.511628\n",
       "April                       1.421801\n",
       "Steve                       1.409396\n",
       "Dylan                       1.359003\n",
       "Jeff                        1.262916\n",
       "Eva                         1.250000\n",
       "Nicole                      1.041667\n",
       "John                        1.029601\n",
       "Lisa                        1.004016\n",
       "Tina                        0.411523\n",
       "Dan                              NaN\n",
       "Dean                             NaN\n",
       "Emma                             NaN\n",
       "Goldie                           NaN\n",
       "Holly                            NaN\n",
       "Irene                            NaN\n",
       "Max                              NaN\n",
       "Nathan                           NaN\n",
       "Orianna                          NaN\n",
       "Oscar                            NaN\n",
       "Permanently deleted user         NaN\n",
       "Quentin                          NaN\n",
       "Sophia                           NaN\n",
       "Vito                             NaN\n",
       "Zoe                              NaN\n",
       "dtype: float64"
      ]
     },
     "execution_count": 299,
     "metadata": {},
     "output_type": "execute_result"
    }
   ],
   "source": [
    "(df.query(\"reply_time > '90'\").groupby(\"agent\")[\"reply_time\"].count() / df.groupby(\"agent\")[\"request_datetime\"].count()).sort_values(ascending=False) * 100"
   ]
  },
  {
   "cell_type": "code",
   "execution_count": 305,
   "metadata": {},
   "outputs": [],
   "source": [
    "df[\"request_datetime\"] = df[\"request_datetime\"].dt.hour"
   ]
  },
  {
   "cell_type": "code",
   "execution_count": 317,
   "metadata": {},
   "outputs": [
    {
     "data": {
      "text/plain": [
       "request_datetime\n",
       "20    6.274510\n",
       "19    6.274510\n",
       "23    6.078431\n",
       "21    5.882353\n",
       "1     5.686275\n",
       "18    5.294118\n",
       "17    5.294118\n",
       "16    5.294118\n",
       "22    5.098039\n",
       "15    5.098039\n",
       "0     4.705882\n",
       "7     3.921569\n",
       "6     3.725490\n",
       "3     3.725490\n",
       "9     3.333333\n",
       "2     3.333333\n",
       "11    3.137255\n",
       "5     2.941176\n",
       "14    2.745098\n",
       "8     2.745098\n",
       "10    2.549020\n",
       "13    2.549020\n",
       "12    2.549020\n",
       "4     1.764706\n",
       "Name: satisfaction_score, dtype: float64"
      ]
     },
     "execution_count": 317,
     "metadata": {},
     "output_type": "execute_result"
    }
   ],
   "source": [
    "(df.query(\"(satisfaction_score == 'Bad' or satisfaction_score == 'Bad with Comment' )\").groupby(\"request_datetime\")[\"satisfaction_score\"].count()/510 * 100 ).sort_values(ascending=False)"
   ]
  },
  {
   "cell_type": "code",
   "execution_count": 318,
   "metadata": {},
   "outputs": [
    {
     "data": {
      "text/plain": [
       "request_datetime\n",
       "23    2947\n",
       "18    2650\n",
       "17    2535\n",
       "20    2398\n",
       "21    2370\n",
       "19    2369\n",
       "0     2283\n",
       "22    2257\n",
       "16    2204\n",
       "1     2186\n",
       "15    1969\n",
       "14    1830\n",
       "2     1766\n",
       "3     1694\n",
       "4     1584\n",
       "13    1571\n",
       "11    1568\n",
       "5     1454\n",
       "6     1444\n",
       "9     1442\n",
       "12    1427\n",
       "8     1381\n",
       "10    1364\n",
       "7     1337\n",
       "Name: satisfaction_score, dtype: int64"
      ]
     },
     "execution_count": 318,
     "metadata": {},
     "output_type": "execute_result"
    }
   ],
   "source": [
    "(df.groupby(\"request_datetime\")[\"satisfaction_score\"].count()).sort_values(ascending=False)"
   ]
  },
  {
   "cell_type": "code",
   "execution_count": 315,
   "metadata": {},
   "outputs": [
    {
     "data": {
      "text/plain": [
       "510"
      ]
     },
     "execution_count": 315,
     "metadata": {},
     "output_type": "execute_result"
    }
   ],
   "source": [
    "sum(df.query(\"(satisfaction_score == 'Bad' or satisfaction_score == 'Bad with Comment' )\").groupby(\"request_datetime\")[\"satisfaction_score\"].count())"
   ]
  },
  {
   "cell_type": "code",
   "execution_count": null,
   "metadata": {},
   "outputs": [],
   "source": [
    "1438"
   ]
  }
 ],
 "metadata": {
  "kernelspec": {
   "display_name": "base",
   "language": "python",
   "name": "python3"
  },
  "language_info": {
   "codemirror_mode": {
    "name": "ipython",
    "version": 3
   },
   "file_extension": ".py",
   "mimetype": "text/x-python",
   "name": "python",
   "nbconvert_exporter": "python",
   "pygments_lexer": "ipython3",
   "version": "3.11.5"
  }
 },
 "nbformat": 4,
 "nbformat_minor": 2
}
